{
  "nbformat": 4,
  "nbformat_minor": 0,
  "metadata": {
    "colab": {
      "provenance": []
    },
    "kernelspec": {
      "name": "python3",
      "display_name": "Python 3"
    },
    "language_info": {
      "name": "python"
    }
  },
  "cells": [
    {
      "cell_type": "markdown",
      "source": [
        "#find the roots of f(x) in the range of pi/2 and 3pi/2.\n",
        "F(x) = exp(x) * Cos(x) + 3"
      ],
      "metadata": {
        "id": "jSZrh9wYpLJ_"
      }
    },
    {
      "cell_type": "code",
      "source": [
        "import math"
      ],
      "metadata": {
        "id": "1lxXt2BgG_rF"
      },
      "execution_count": null,
      "outputs": []
    },
    {
      "cell_type": "markdown",
      "source": [
        "## bisection"
      ],
      "metadata": {
        "id": "EFspu63GtAa8"
      }
    },
    {
      "cell_type": "code",
      "source": [
        "def bisection(f,a,b,delta):\n",
        "    n = 0\n",
        "    while (True):\n",
        "        x = (a+b)/2\n",
        "        if abs(f(x)) < delta:\n",
        "           break\n",
        "        elif f(x)*f(a)<0:\n",
        "             b = x\n",
        "        else:\n",
        "             a = x\n",
        "        n += 1\n",
        "    print(\"The root is: %s in %s iterations  \" %(str(x),str(n)))\n",
        "\n",
        "\n",
        "delta = 0.0001\n",
        "a = math.pi/2\n",
        "b = 3*math.pi/2\n",
        "f = lambda x: math.exp(x)*math.cos(x)+3\n",
        "\n",
        "bisection(f,a,b,delta)"
      ],
      "metadata": {
        "colab": {
          "base_uri": "https://localhost:8080/"
        },
        "id": "B2xjM0HnpJv_",
        "outputId": "6d41b1b3-517e-467d-b04a-66f2dda29e8d"
      },
      "execution_count": null,
      "outputs": [
        {
          "output_type": "stream",
          "name": "stdout",
          "text": [
            "The root is: 1.992305485166098 in 15 iterations  \n"
          ]
        }
      ]
    },
    {
      "cell_type": "markdown",
      "source": [
        "## Newmann"
      ],
      "metadata": {
        "id": "HmGimAektKjA"
      }
    },
    {
      "cell_type": "code",
      "source": [
        "def newmann(f,a,delta):\n",
        "    n = 0\n",
        "    d = 0\n",
        "    x = a\n",
        "    while (True):\n",
        "        if abs(f(x)) < delta:\n",
        "           break\n",
        "        else:\n",
        "            c = x + delta\n",
        "            d = (f(c)-f(x))/delta   # derivative of  function\n",
        "            x = x - f(x)/d\n",
        "        n += 1\n",
        "    print(\"The root is: %s in %s iterations  \" %(str(x),str(n)))\n",
        "\n",
        "delta = 0.0001\n",
        "a = math.pi/2\n",
        "b = 3*math.pi/2\n",
        "f = lambda x: math.exp(x)*math.cos(x)+3\n",
        "\n",
        "newmann(f,a,delta)\n"
      ],
      "metadata": {
        "colab": {
          "base_uri": "https://localhost:8080/"
        },
        "id": "4GpeiFM-rlcR",
        "outputId": "eb610c9f-9fb6-409c-93e4-1e5e40b205e3"
      },
      "execution_count": null,
      "outputs": [
        {
          "output_type": "stream",
          "name": "stdout",
          "text": [
            "The root is: 1.992308578430795 in 4 iterations  \n"
          ]
        }
      ]
    },
    {
      "cell_type": "markdown",
      "source": [
        "## secant"
      ],
      "metadata": {
        "id": "iPdvj7n5tYpb"
      }
    },
    {
      "cell_type": "code",
      "source": [
        "def secant(f,a,b,delta):\n",
        "    n = 0\n",
        "    x = a\n",
        "    if abs(f(a)- f(b)) <= 0.0001:\n",
        "        b -= 0.1\n",
        "    while (True):\n",
        "          if abs(f(x)) < delta:\n",
        "             break\n",
        "          else:\n",
        "              m = (f(b)-f(x))/(b-x)   # derivative of  function\n",
        "              x = x - f(x)/m\n",
        "          n += 1\n",
        "    print(\"The root is: %s in %s iterations  \" %(str(x),str(n)))\n",
        "\n",
        "delta = 0.0001\n",
        "a = math.pi/2\n",
        "b = 3*math.pi/2\n",
        "f = lambda x: math.exp(x)*math.cos(x)+3\n",
        "\n",
        "secant(f,a,b,delta)"
      ],
      "metadata": {
        "colab": {
          "base_uri": "https://localhost:8080/"
        },
        "id": "h9SbiPDttZ_H",
        "outputId": "05db38e9-f152-422e-eb4c-7df7c6e38940"
      },
      "execution_count": null,
      "outputs": [
        {
          "output_type": "stream",
          "name": "stdout",
          "text": [
            "The root is: 1.9923043169976817 in 941494 iterations  \n"
          ]
        }
      ]
    }
  ]
}