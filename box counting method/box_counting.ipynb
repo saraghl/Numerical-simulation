{
  "cells": [
    {
      "cell_type": "markdown",
      "source": [
        "# libraries"
      ],
      "metadata": {
        "id": "pmdGR0-3ntUC"
      }
    },
    {
      "cell_type": "code",
      "execution_count": null,
      "metadata": {
        "id": "uk3DrpQIupJf",
        "colab": {
          "base_uri": "https://localhost:8080/"
        },
        "outputId": "ae61f7de-731a-460a-b8ac-1663c6bd47a1"
      },
      "outputs": [
        {
          "output_type": "stream",
          "name": "stdout",
          "text": [
            "Looking in indexes: https://pypi.org/simple, https://us-python.pkg.dev/colab-wheels/public/simple/\n",
            "Requirement already satisfied: porespy in /usr/local/lib/python3.8/dist-packages (2.2.2)\n",
            "Requirement already satisfied: numpy-stl in /usr/local/lib/python3.8/dist-packages (from porespy) (3.0.0)\n",
            "Requirement already satisfied: rich in /usr/local/lib/python3.8/dist-packages (from porespy) (13.2.0)\n",
            "Requirement already satisfied: imageio in /usr/local/lib/python3.8/dist-packages (from porespy) (2.9.0)\n",
            "Requirement already satisfied: edt in /usr/local/lib/python3.8/dist-packages (from porespy) (2.3.0)\n",
            "Requirement already satisfied: pyevtk in /usr/local/lib/python3.8/dist-packages (from porespy) (1.5.0)\n",
            "Requirement already satisfied: numpy in /usr/local/lib/python3.8/dist-packages (from porespy) (1.21.6)\n",
            "Requirement already satisfied: tqdm in /usr/local/lib/python3.8/dist-packages (from porespy) (4.64.1)\n",
            "Requirement already satisfied: dask in /usr/local/lib/python3.8/dist-packages (from porespy) (2022.2.1)\n",
            "Requirement already satisfied: scikit-image in /usr/local/lib/python3.8/dist-packages (from porespy) (0.18.3)\n",
            "Requirement already satisfied: scikit-fmm in /usr/local/lib/python3.8/dist-packages (from porespy) (2022.8.15)\n",
            "Requirement already satisfied: trimesh in /usr/local/lib/python3.8/dist-packages (from porespy) (3.18.1)\n",
            "Requirement already satisfied: numba in /usr/local/lib/python3.8/dist-packages (from porespy) (0.56.4)\n",
            "Requirement already satisfied: scipy in /usr/local/lib/python3.8/dist-packages (from porespy) (1.7.3)\n",
            "Requirement already satisfied: psutil in /usr/local/lib/python3.8/dist-packages (from porespy) (5.4.8)\n",
            "Requirement already satisfied: pyfastnoisesimd in /usr/local/lib/python3.8/dist-packages (from porespy) (0.4.2)\n",
            "Requirement already satisfied: pandas in /usr/local/lib/python3.8/dist-packages (from porespy) (1.3.5)\n",
            "Requirement already satisfied: openpnm in /usr/local/lib/python3.8/dist-packages (from porespy) (3.1.1)\n",
            "Requirement already satisfied: matplotlib in /usr/local/lib/python3.8/dist-packages (from porespy) (3.2.2)\n",
            "Requirement already satisfied: deprecated in /usr/local/lib/python3.8/dist-packages (from porespy) (1.2.13)\n",
            "Requirement already satisfied: fsspec>=0.6.0 in /usr/local/lib/python3.8/dist-packages (from dask->porespy) (2022.11.0)\n",
            "Requirement already satisfied: partd>=0.3.10 in /usr/local/lib/python3.8/dist-packages (from dask->porespy) (1.3.0)\n",
            "Requirement already satisfied: packaging>=20.0 in /usr/local/lib/python3.8/dist-packages (from dask->porespy) (21.3)\n",
            "Requirement already satisfied: cloudpickle>=1.1.1 in /usr/local/lib/python3.8/dist-packages (from dask->porespy) (2.2.0)\n",
            "Requirement already satisfied: pyyaml>=5.3.1 in /usr/local/lib/python3.8/dist-packages (from dask->porespy) (6.0)\n",
            "Requirement already satisfied: toolz>=0.8.2 in /usr/local/lib/python3.8/dist-packages (from dask->porespy) (0.12.0)\n",
            "Requirement already satisfied: wrapt<2,>=1.10 in /usr/local/lib/python3.8/dist-packages (from deprecated->porespy) (1.14.1)\n",
            "Requirement already satisfied: pillow in /usr/local/lib/python3.8/dist-packages (from imageio->porespy) (7.1.2)\n",
            "Requirement already satisfied: python-dateutil>=2.1 in /usr/local/lib/python3.8/dist-packages (from matplotlib->porespy) (2.8.2)\n",
            "Requirement already satisfied: cycler>=0.10 in /usr/local/lib/python3.8/dist-packages (from matplotlib->porespy) (0.11.0)\n",
            "Requirement already satisfied: pyparsing!=2.0.4,!=2.1.2,!=2.1.6,>=2.0.1 in /usr/local/lib/python3.8/dist-packages (from matplotlib->porespy) (3.0.9)\n",
            "Requirement already satisfied: kiwisolver>=1.0.1 in /usr/local/lib/python3.8/dist-packages (from matplotlib->porespy) (1.4.4)\n",
            "Requirement already satisfied: importlib-metadata in /usr/local/lib/python3.8/dist-packages (from numba->porespy) (6.0.0)\n",
            "Requirement already satisfied: llvmlite<0.40,>=0.39.0dev0 in /usr/local/lib/python3.8/dist-packages (from numba->porespy) (0.39.1)\n",
            "Requirement already satisfied: setuptools in /usr/local/lib/python3.8/dist-packages (from numba->porespy) (57.4.0)\n",
            "Requirement already satisfied: python-utils>=3.4.5 in /usr/local/lib/python3.8/dist-packages (from numpy-stl->porespy) (3.4.5)\n",
            "Requirement already satisfied: docrep in /usr/local/lib/python3.8/dist-packages (from openpnm->porespy) (0.3.2)\n",
            "Requirement already satisfied: thermo in /usr/local/lib/python3.8/dist-packages (from openpnm->porespy) (0.2.23)\n",
            "Requirement already satisfied: h5py in /usr/local/lib/python3.8/dist-packages (from openpnm->porespy) (3.1.0)\n",
            "Requirement already satisfied: jsonschema in /usr/local/lib/python3.8/dist-packages (from openpnm->porespy) (4.3.3)\n",
            "Requirement already satisfied: networkx in /usr/local/lib/python3.8/dist-packages (from openpnm->porespy) (3.0)\n",
            "Requirement already satisfied: transforms3d in /usr/local/lib/python3.8/dist-packages (from openpnm->porespy) (0.4.1)\n",
            "Requirement already satisfied: chemicals in /usr/local/lib/python3.8/dist-packages (from openpnm->porespy) (1.1.2)\n",
            "Requirement already satisfied: sympy in /usr/local/lib/python3.8/dist-packages (from openpnm->porespy) (1.7.1)\n",
            "Requirement already satisfied: pyamg in /usr/local/lib/python3.8/dist-packages (from openpnm->porespy) (4.2.3)\n",
            "Requirement already satisfied: pypardiso in /usr/local/lib/python3.8/dist-packages (from openpnm->porespy) (0.4.2)\n",
            "Requirement already satisfied: pytz>=2017.3 in /usr/local/lib/python3.8/dist-packages (from pandas->porespy) (2022.7)\n",
            "Requirement already satisfied: markdown-it-py<3.0.0,>=2.1.0 in /usr/local/lib/python3.8/dist-packages (from rich->porespy) (2.1.0)\n",
            "Requirement already satisfied: pygments<3.0.0,>=2.6.0 in /usr/local/lib/python3.8/dist-packages (from rich->porespy) (2.6.1)\n",
            "Requirement already satisfied: typing-extensions<5.0,>=4.0.0 in /usr/local/lib/python3.8/dist-packages (from rich->porespy) (4.4.0)\n",
            "Requirement already satisfied: tifffile>=2019.7.26 in /usr/local/lib/python3.8/dist-packages (from scikit-image->porespy) (2022.10.10)\n",
            "Requirement already satisfied: PyWavelets>=1.1.1 in /usr/local/lib/python3.8/dist-packages (from scikit-image->porespy) (1.4.1)\n",
            "Requirement already satisfied: mdurl~=0.1 in /usr/local/lib/python3.8/dist-packages (from markdown-it-py<3.0.0,>=2.1.0->rich->porespy) (0.1.2)\n",
            "Requirement already satisfied: locket in /usr/local/lib/python3.8/dist-packages (from partd>=0.3.10->dask->porespy) (1.0.0)\n",
            "Requirement already satisfied: six>=1.5 in /usr/local/lib/python3.8/dist-packages (from python-dateutil>=2.1->matplotlib->porespy) (1.15.0)\n",
            "Requirement already satisfied: fluids>=1.0.21 in /usr/local/lib/python3.8/dist-packages (from chemicals->openpnm->porespy) (1.0.22)\n",
            "Requirement already satisfied: zipp>=0.5 in /usr/local/lib/python3.8/dist-packages (from importlib-metadata->numba->porespy) (3.11.0)\n",
            "Requirement already satisfied: importlib-resources>=1.4.0 in /usr/local/lib/python3.8/dist-packages (from jsonschema->openpnm->porespy) (5.10.2)\n",
            "Requirement already satisfied: attrs>=17.4.0 in /usr/local/lib/python3.8/dist-packages (from jsonschema->openpnm->porespy) (22.2.0)\n",
            "Requirement already satisfied: pyrsistent!=0.17.0,!=0.17.1,!=0.17.2,>=0.14.0 in /usr/local/lib/python3.8/dist-packages (from jsonschema->openpnm->porespy) (0.19.3)\n",
            "Requirement already satisfied: mkl in /usr/local/lib/python3.8/dist-packages (from pypardiso->openpnm->porespy) (2019.0)\n",
            "Requirement already satisfied: mpmath>=0.19 in /usr/local/lib/python3.8/dist-packages (from sympy->openpnm->porespy) (1.2.1)\n",
            "Requirement already satisfied: intel-openmp in /usr/local/lib/python3.8/dist-packages (from mkl->pypardiso->openpnm->porespy) (2023.0.0)\n"
          ]
        }
      ],
      "source": [
        "!pip install porespy;\n",
        "import random\n",
        "import numba\n",
        "import math\n",
        "import numpy as np\n",
        "import matplotlib.pyplot as plt\n",
        "import scipy.ndimage as sc\n",
        "import porespy as ps\n",
        "from math import *\n",
        "from numba import njit\n",
        "from PIL import Image\n",
        "from tqdm import tqdm"
      ]
    },
    {
      "cell_type": "markdown",
      "source": [
        "# Find the fractal dimension of Giant connected component in Ising model using the Box-counting method."
      ],
      "metadata": {
        "id": "rZhuVCyDSHFi"
      }
    },
    {
      "cell_type": "markdown",
      "source": [
        "## labeled data"
      ],
      "metadata": {
        "id": "8u99xwxKt-0o"
      }
    },
    {
      "cell_type": "code",
      "source": [
        "lattice = lattice_periodic(128)\n",
        "lf = MCMC_part(lattice, 128,10000,2.3)\n",
        "plt.matshow(lf,cmap='jet')\n",
        "plt.colorbar()"
      ],
      "metadata": {
        "colab": {
          "base_uri": "https://localhost:8080/",
          "height": 281
        },
        "outputId": "73d698a3-9d10-467d-b4d7-79190da6eca8",
        "id": "4osrC8Iotk4J"
      },
      "execution_count": null,
      "outputs": [
        {
          "output_type": "execute_result",
          "data": {
            "text/plain": [
              "<matplotlib.colorbar.Colorbar at 0x7fe13f792d90>"
            ]
          },
          "metadata": {},
          "execution_count": 4
        },
        {
          "output_type": "display_data",
          "data": {
            "text/plain": [
              "<Figure size 288x288 with 2 Axes>"
            ],
            "image/png": "[encoded data removed]"
          },
          "metadata": {
            "needs_background": "light"
          }
        }
      ]
    },
    {
      "cell_type": "code",
      "source": [
        "lf[lf==-1]=0 # assign the spin -1 to 0 in ordert to use ndimage.label\n",
        "lf[lf==1]=1\n",
        "plt.matshow(lf,cmap='jet')\n",
        "plt.colorbar()"
      ],
      "metadata": {
        "colab": {
          "base_uri": "https://localhost:8080/",
          "height": 281
        },
        "outputId": "56e02f23-0871-4c25-d6e6-2a9281c94b1e",
        "id": "wsWpgrfCtk4O"
      },
      "execution_count": null,
      "outputs": [
        {
          "output_type": "execute_result",
          "data": {
            "text/plain": [
              "<matplotlib.colorbar.Colorbar at 0x7fe13f296fa0>"
            ]
          },
          "metadata": {},
          "execution_count": 5
        },
        {
          "output_type": "display_data",
          "data": {
            "text/plain": [
              "<Figure size 288x288 with 2 Axes>"
            ],
            "image/png": "[encoded data removed]"
          },
          "metadata": {
            "needs_background": "light"
          }
        }
      ]
    },
    {
      "cell_type": "code",
      "source": [
        "label_lf = sc.label(lf)[0]\n",
        "label_lf"
      ],
      "metadata": {
        "colab": {
          "base_uri": "https://localhost:8080/"
        },
        "outputId": "7b9bbbe4-893e-4105-899f-a62949b1900f",
        "id": "obYrlDBUtk4O"
      },
      "execution_count": null,
      "outputs": [
        {
          "output_type": "execute_result",
          "data": {
            "text/plain": [
              "array([[  1,   1,   1, ...,   0,   7,   7],\n",
              "       [  1,   1,   1, ...,   0,   7,   7],\n",
              "       [  0,   1,   1, ...,   7,   7,   7],\n",
              "       ...,\n",
              "       [293, 293, 293, ...,   0,   0, 378],\n",
              "       [293, 293, 293, ..., 378, 378, 378],\n",
              "       [293, 293, 293, ...,   0, 378, 378]], dtype=int32)"
            ]
          },
          "metadata": {},
          "execution_count": 6
        }
      ]
    },
    {
      "cell_type": "code",
      "source": [
        "plt.matshow(label_lf,cmap='jet')\n",
        "plt.colorbar()"
      ],
      "metadata": {
        "colab": {
          "base_uri": "https://localhost:8080/",
          "height": 277
        },
        "outputId": "2df0c175-a03c-4d20-9619-0f5f9b4939e9",
        "id": "cISjDTc1tk4O"
      },
      "execution_count": null,
      "outputs": [
        {
          "output_type": "execute_result",
          "data": {
            "text/plain": [
              "<matplotlib.colorbar.Colorbar at 0x7fe13f1c7130>"
            ]
          },
          "metadata": {},
          "execution_count": 7
        },
        {
          "output_type": "display_data",
          "data": {
            "text/plain": [
              "<Figure size 288x288 with 2 Axes>"
            ],
            "image/png": "[encoded data removed]"
          },
          "metadata": {
            "needs_background": "light"
          }
        }
      ]
    },
    {
      "cell_type": "code",
      "source": [
        "np.bincount(label_lf.flatten())"
      ],
      "metadata": {
        "colab": {
          "base_uri": "https://localhost:8080/"
        },
        "outputId": "39db9e60-ce54-4db5-ea7a-7d1e22599641",
        "id": "B6CmLMfJtk4O"
      },
      "execution_count": null,
      "outputs": [
        {
          "output_type": "execute_result",
          "data": {
            "text/plain": [
              "array([10199,   282,     1,    60,    98,   430,     4,    21,     1,\n",
              "           1,     1,     1,     1,     1,     5,     2,    15,     5,\n",
              "          35,     8,     1,     1,     1,     2,     3,     1,     2,\n",
              "           1,     1,     4,     3,     1,    71,     1,     1,     1,\n",
              "           1,     1,    40,     2,     2,     7,     1,     1,     1,\n",
              "           1,     1,     1,     1,     1,     3,     3,     1,     1,\n",
              "           1,     1,     2,     1,     1,     1,     1,     2,    36,\n",
              "           1,     1,     1,     2,     1,     6,    18,     1,     2,\n",
              "           2,     1,     4,     1,     8,     3,     8,     1,     3,\n",
              "           2,     8,     1,     6,     1,     1,     3,     2,     3,\n",
              "           1,     1,     1,     1,     3,     1,     1,     1,     1,\n",
              "           1,     1,     1,     1,     3,     1,     1,     1,    18,\n",
              "           1,     1,     2,     1,     1,     1,     1,    89,     5,\n",
              "           2,     1,     2,     3,     2,    10,     1,     1,     2,\n",
              "           2,     1,     2,     7,     2,     1,     1,     1,     1,\n",
              "           2,     3,   181,     5,     2,     1,     1,     1,     2,\n",
              "           1,     9,     2,     1,     4,     1,     1,  2464,     1,\n",
              "           1,     1,     3,     1,     1,     1,     1,     1,     1,\n",
              "           1,     1,     1,     1,     1,     2,     1,     1,     1,\n",
              "          11,     1,     2,     3,    10,     4,     1,   108,     2,\n",
              "           2,     1,     1,     2,     2,     1,     4,     2,    19,\n",
              "           1,    12,     1,     2,     1,     1,     1,     1,     5,\n",
              "           1,     1,     2,    12,     8,     1,     2,     1,     1,\n",
              "           3,     1,     1,     1,     1,     1,     3,     1,     1,\n",
              "           1,     1,     4,     1,     2,    16,    32,     2,     1,\n",
              "           7,     1,     1,     1,     1,     1,     2,     6,     3,\n",
              "          15,     1,    25,     1,     3,     1,     6,     1,     1,\n",
              "          12,     1,     1,     1,     1,     1,     1,     2,     1,\n",
              "           1,     2,     1,     2,     1,     1,     8,     4,     1,\n",
              "           2,     1,     1,     8,     2,     1,     1,     1,     1,\n",
              "           6,     2,     1,     3,     1,    20,     1,     1,     1,\n",
              "           1,     1,     1,     1,     3,     1,     1,     1,     1,\n",
              "           3,     1,     3,     1,    54,   584,     1,     2,     1,\n",
              "           3,     3,     2,     1,     2,     3,     1,     1,     1,\n",
              "           1,     1,     1,     2,     2,     1,     1,     2,     1,\n",
              "          24,     1,     3,     1,     1,     2,    11,     1,     1,\n",
              "           1,     2,     1,     1,     1,     1,     1,   588,     1,\n",
              "           1,     1,     1,     1,     2,     1,     4,     1,     2,\n",
              "           1,    15,    65,     1,    11,     1,     1,     1,     2,\n",
              "          40,     1,     1,     1,     1,     5,     2,     1,     3,\n",
              "           2,     1,     4,     1,     1,     1,     1,     3,     3,\n",
              "           1,     2,     1,     1,     1,     1,     1,     1,     2,\n",
              "          14,     1,     2,     1,     1,     1,     1,     1,     1])"
            ]
          },
          "metadata": {},
          "execution_count": 8
        }
      ]
    },
    {
      "cell_type": "code",
      "source": [
        "np.where(np.bincount(label_lf.flatten()) == 2464)"
      ],
      "metadata": {
        "colab": {
          "base_uri": "https://localhost:8080/"
        },
        "outputId": "699e0e90-f576-4136-db93-0f65eb0a0f3a",
        "id": "30CqjNFjtk4O"
      },
      "execution_count": null,
      "outputs": [
        {
          "output_type": "execute_result",
          "data": {
            "text/plain": [
              "(array([151]),)"
            ]
          },
          "metadata": {},
          "execution_count": 9
        }
      ]
    },
    {
      "cell_type": "code",
      "source": [
        "label_lf[label_lf != 151] = 0"
      ],
      "metadata": {
        "id": "C7JhXLTttk4O"
      },
      "execution_count": null,
      "outputs": []
    },
    {
      "cell_type": "code",
      "source": [
        "giant = label_lf\n",
        "plt.matshow(giant, cmap='jet')\n",
        "plt.colorbar()"
      ],
      "metadata": {
        "colab": {
          "base_uri": "https://localhost:8080/",
          "height": 277
        },
        "outputId": "b28f657d-101d-4a33-ce55-ae015ef000c9",
        "id": "3HD93Bi2tk4O"
      },
      "execution_count": null,
      "outputs": [
        {
          "output_type": "execute_result",
          "data": {
            "text/plain": [
              "<matplotlib.colorbar.Colorbar at 0x7fe13e5d0100>"
            ]
          },
          "metadata": {},
          "execution_count": 12
        },
        {
          "output_type": "display_data",
          "data": {
            "text/plain": [
              "<Figure size 288x288 with 2 Axes>"
            ],
            "image/png": "[encoded data removed]"
          },
          "metadata": {
            "needs_background": "light"
          }
        }
      ]
    },
    {
      "cell_type": "markdown",
      "source": [
        "## box counting method"
      ],
      "metadata": {
        "id": "dNAHDzTtuL9U"
      }
    },
    {
      "cell_type": "code",
      "source": [
        "data = ps.metrics.boxcount(giant)\n",
        "print(data)"
      ],
      "metadata": {
        "colab": {
          "base_uri": "https://localhost:8080/"
        },
        "outputId": "c5edf86d-28de-4738-f483-02659125686c",
        "id": "0JWUVu8Rtk4O"
      },
      "execution_count": null,
      "outputs": [
        {
          "output_type": "stream",
          "name": "stdout",
          "text": [
            "――――――――――――――――――――――――――――――――――――――――――――――――――――――――――――――――――――――――――――――\n",
            "Item                      Description\n",
            "――――――――――――――――――――――――――――――――――――――――――――――――――――――――――――――――――――――――――――――\n",
            "size                      Array of size (10,)\n",
            "count                     [50, 36, 23, 15, 10, 7, 6, 4, 4, 2]\n",
            "slope                     Array of size (10,)\n",
            "――――――――――――――――――――――――――――――――――――――――――――――――――――――――――――――――――――――――――――――\n"
          ]
        }
      ]
    },
    {
      "cell_type": "code",
      "source": [
        "measure = data.size\n",
        "measure"
      ],
      "metadata": {
        "colab": {
          "base_uri": "https://localhost:8080/"
        },
        "outputId": "de1820a9-125d-45eb-f49d-581caf823436",
        "id": "pic5bbh8tk4O"
      },
      "execution_count": null,
      "outputs": [
        {
          "output_type": "execute_result",
          "data": {
            "text/plain": [
              "array([ 10,  13,  17,  23,  31,  41,  54,  72,  96, 127])"
            ]
          },
          "metadata": {},
          "execution_count": 58
        }
      ]
    },
    {
      "cell_type": "code",
      "source": [
        "counted = np.flip(data.count)\n",
        "counted"
      ],
      "metadata": {
        "colab": {
          "base_uri": "https://localhost:8080/"
        },
        "outputId": "67599e3c-e0ca-4b0e-95ec-403c6a1f30f2",
        "id": "FqTWappjtk4P"
      },
      "execution_count": null,
      "outputs": [
        {
          "output_type": "execute_result",
          "data": {
            "text/plain": [
              "array([ 2,  4,  4,  6,  7, 10, 15, 23, 36, 50])"
            ]
          },
          "metadata": {},
          "execution_count": 56
        }
      ]
    },
    {
      "cell_type": "code",
      "source": [
        "model = np.poly1d(np.polyfit(np.log(measure), np.log(counted), 1))\n",
        "plt.scatter(np.log(measure), np.log(counted), label = 'Data points')\n",
        "plt.plot(np.log(measure), model(np.log(measure)), '-r', label = 'linear fit')\n",
        "plt.xlabel('box lenght')\n",
        "plt.ylabel('filled boxes')\n",
        "plt.legend()"
      ],
      "metadata": {
        "colab": {
          "base_uri": "https://localhost:8080/",
          "height": 296
        },
        "outputId": "8655be8c-735f-4692-ddd6-7d9c35d7d8a7",
        "id": "4wJrkg4stk4P"
      },
      "execution_count": null,
      "outputs": [
        {
          "output_type": "execute_result",
          "data": {
            "text/plain": [
              "<matplotlib.legend.Legend at 0x7fe0c62a8bb0>"
            ]
          },
          "metadata": {},
          "execution_count": 61
        },
        {
          "output_type": "display_data",
          "data": {
            "text/plain": [
              "<Figure size 432x288 with 1 Axes>"
            ],
            "image/png": "[encoded data removed]"
          },
          "metadata": {
            "needs_background": "light"
          }
        }
      ]
    },
    {
      "cell_type": "code",
      "source": [
        "fractal_dim = np.polyfit(np.log(measure), np.log(counted), 1)[0]\n",
        "print('fractal dimension is {:.3f}'.format(fractal_dim))"
      ],
      "metadata": {
        "outputId": "2bbeaf77-80f8-48b4-f7d4-b5afb7f20a18",
        "colab": {
          "base_uri": "https://localhost:8080/"
        },
        "id": "Um1E4zj8tk4P"
      },
      "execution_count": null,
      "outputs": [
        {
          "output_type": "stream",
          "name": "stdout",
          "text": [
            "fractal dimension is 1.197\n"
          ]
        }
      ]
    },
    {
      "cell_type": "markdown",
      "source": [
        "# find the fractal dimension of 1D and 2D random walks using the Box-counting method."
      ],
      "metadata": {
        "id": "BFNmhDj2uheU"
      }
    },
    {
      "cell_type": "markdown",
      "source": [
        "## 1-D random walk"
      ],
      "metadata": {
        "id": "ka2rG2UGFpep"
      }
    },
    {
      "cell_type": "markdown",
      "source": [
        "### function"
      ],
      "metadata": {
        "id": "f8fisreBSUDu"
      }
    },
    {
      "cell_type": "code",
      "source": [
        "def rw_1d(n):\n",
        "  y = 0\n",
        "  time = np.arange(n + 1)\n",
        "  position = [y]\n",
        "  directions = [\"u\", \"d\"]\n",
        "  for i in range(1, n + 1):\n",
        "    step = random.choice(directions)\n",
        "    if step == \"u\":\n",
        "      y += 1\n",
        "    elif step == \"d\":\n",
        "      y -= 1\n",
        "    position.append(y)\n",
        "  return time, position"
      ],
      "metadata": {
        "id": "dZdUQupvulpa"
      },
      "execution_count": null,
      "outputs": []
    },
    {
      "cell_type": "code",
      "source": [
        "time, x = rw_1d(100000)\n",
        "plt.plot(time, x)\n",
        "plt.title('1-D random walk')\n",
        "plt.grid()\n",
        "plt.xlabel('time')\n",
        "plt.ylabel('position')"
      ],
      "metadata": {
        "colab": {
          "base_uri": "https://localhost:8080/",
          "height": 312
        },
        "id": "lXKwHJZZHeVy",
        "outputId": "a7919225-3dd4-4b7c-eb06-715aea24adb4"
      },
      "execution_count": null,
      "outputs": [
        {
          "output_type": "execute_result",
          "data": {
            "text/plain": [
              "Text(0, 0.5, 'position')"
            ]
          },
          "metadata": {},
          "execution_count": 42
        },
        {
          "output_type": "display_data",
          "data": {
            "text/plain": [
              "<Figure size 432x288 with 1 Axes>"
            ],
            "image/png": "[encoded data removed]"
          },
          "metadata": {
            "needs_background": "light"
          }
        }
      ]
    },
    {
      "cell_type": "markdown",
      "source": [
        "### making a binary data"
      ],
      "metadata": {
        "id": "KEV8j0svSY6h"
      }
    },
    {
      "cell_type": "code",
      "source": [
        "plt.plot(time, x)\n",
        "plt.axis('off')\n",
        "plt.savefig('1d_rw.png', bbox_inches = 'tight')"
      ],
      "metadata": {
        "colab": {
          "base_uri": "https://localhost:8080/",
          "height": 248
        },
        "id": "Ei7NeqOOJi2H",
        "outputId": "9792160a-1022-45e6-9a12-bcb9dd67a403"
      },
      "execution_count": null,
      "outputs": [
        {
          "output_type": "display_data",
          "data": {
            "text/plain": [
              "<Figure size 432x288 with 1 Axes>"
            ],
            "image/png": "[encoded data removed]"
          },
          "metadata": {
            "needs_background": "light"
          }
        }
      ]
    },
    {
      "cell_type": "code",
      "source": [
        "rw1 = Image.open('1d_rw.png')\n",
        "rw1_arr = np.array(rw1)[:,:,1]\n",
        "np.unique(rw1_arr)"
      ],
      "metadata": {
        "colab": {
          "base_uri": "https://localhost:8080/"
        },
        "id": "YOfL5TqcKPEs",
        "outputId": "adf4a0f3-8281-4369-f9c0-4660db09633b"
      },
      "execution_count": null,
      "outputs": [
        {
          "output_type": "execute_result",
          "data": {
            "text/plain": [
              "array([119, 120, 121, 122, 123, 124, 125, 126, 127, 128, 129, 130, 131,\n",
              "       132, 133, 134, 135, 137, 138, 139, 140, 141, 142, 143, 144, 145,\n",
              "       146, 147, 148, 149, 150, 151, 152, 153, 154, 155, 156, 157, 158,\n",
              "       159, 160, 161, 162, 163, 164, 165, 166, 167, 168, 169, 170, 171,\n",
              "       172, 173, 174, 175, 176, 177, 178, 179, 180, 181, 182, 183, 184,\n",
              "       185, 186, 187, 188, 189, 190, 191, 192, 193, 194, 195, 196, 197,\n",
              "       198, 199, 200, 201, 202, 203, 204, 205, 206, 207, 208, 209, 210,\n",
              "       211, 212, 213, 214, 215, 216, 217, 218, 219, 220, 221, 222, 223,\n",
              "       224, 225, 226, 227, 228, 229, 230, 231, 232, 233, 234, 235, 236,\n",
              "       237, 238, 239, 240, 241, 242, 243, 244, 245, 246, 247, 248, 249,\n",
              "       250, 251, 252, 253, 254, 255], dtype=uint8)"
            ]
          },
          "metadata": {},
          "execution_count": 44
        }
      ]
    },
    {
      "cell_type": "code",
      "source": [
        "rw1_arr[rw1_arr != 255] = 1\n",
        "rw1_arr[rw1_arr == 255] = 0"
      ],
      "metadata": {
        "id": "AE6gTKsGLFw7"
      },
      "execution_count": null,
      "outputs": []
    },
    {
      "cell_type": "code",
      "source": [
        "plt.matshow(rw1_arr,cmap='jet')\n",
        "plt.colorbar()"
      ],
      "metadata": {
        "colab": {
          "base_uri": "https://localhost:8080/",
          "height": 281
        },
        "id": "g2llCj2ZPvxF",
        "outputId": "54acd549-0a73-473f-a49d-696f66cfdc72"
      },
      "execution_count": null,
      "outputs": [
        {
          "output_type": "execute_result",
          "data": {
            "text/plain": [
              "<matplotlib.colorbar.Colorbar at 0x7f3e79f32d60>"
            ]
          },
          "metadata": {},
          "execution_count": 46
        },
        {
          "output_type": "display_data",
          "data": {
            "text/plain": [
              "<Figure size 435.117x288 with 2 Axes>"
            ],
            "image/png": "[encoded data removed]"
          },
          "metadata": {
            "needs_background": "light"
          }
        }
      ]
    },
    {
      "cell_type": "markdown",
      "source": [
        "### box counting for 1-D RW"
      ],
      "metadata": {
        "id": "uEE6ho7eSfW8"
      }
    },
    {
      "cell_type": "code",
      "source": [
        "rw1_bc = ps.metrics.boxcount(rw1_arr)\n",
        "print(rw1_bc)"
      ],
      "metadata": {
        "colab": {
          "base_uri": "https://localhost:8080/"
        },
        "id": "oTSR1obZQoEN",
        "outputId": "e74af1de-ff86-4912-ab1c-fcfa38b598b0"
      },
      "execution_count": null,
      "outputs": [
        {
          "output_type": "stream",
          "name": "stdout",
          "text": [
            "――――――――――――――――――――――――――――――――――――――――――――――――――――――――――――――――――――――――――――――\n",
            "Item                      Description\n",
            "――――――――――――――――――――――――――――――――――――――――――――――――――――――――――――――――――――――――――――――\n",
            "size                      Array of size (10,)\n",
            "count                     [202, 121, 73, 46, 29, 18, 13, 6, 6, 2]\n",
            "slope                     Array of size (10,)\n",
            "――――――――――――――――――――――――――――――――――――――――――――――――――――――――――――――――――――――――――――――\n"
          ]
        }
      ]
    },
    {
      "cell_type": "code",
      "source": [
        "measure1 = rw1_bc.size\n",
        "measure1"
      ],
      "metadata": {
        "colab": {
          "base_uri": "https://localhost:8080/"
        },
        "id": "PLDOSOSMQiXN",
        "outputId": "fc20c13e-70d7-4cc4-f2e6-e8615ad63caf"
      },
      "execution_count": null,
      "outputs": [
        {
          "output_type": "execute_result",
          "data": {
            "text/plain": [
              "array([ 10,  14,  20,  28,  40,  57,  81, 114, 162, 231])"
            ]
          },
          "metadata": {},
          "execution_count": 53
        }
      ]
    },
    {
      "cell_type": "code",
      "source": [
        "counted1 = np.flip(rw1_bc.count)\n",
        "counted1"
      ],
      "metadata": {
        "colab": {
          "base_uri": "https://localhost:8080/"
        },
        "id": "k2bcXo7-Rjiu",
        "outputId": "ac798fee-2a9e-481d-9c03-1fe57649ffab"
      },
      "execution_count": null,
      "outputs": [
        {
          "output_type": "execute_result",
          "data": {
            "text/plain": [
              "array([  2,   6,   6,  13,  18,  29,  46,  73, 121, 202])"
            ]
          },
          "metadata": {},
          "execution_count": 54
        }
      ]
    },
    {
      "cell_type": "code",
      "source": [
        "model_rw1 = np.poly1d(np.polyfit(np.log(measure1), np.log(counted1), 1))\n",
        "plt.scatter(np.log(measure1), np.log(counted1), label = 'Data points')\n",
        "plt.plot(np.log(measure1), model_rw1(np.log(measure1)), '-r', label = 'linear fit')\n",
        "plt.xlabel('box lenght')\n",
        "plt.ylabel('filled boxes')\n",
        "plt.title('box counting for 1-D random walk')\n",
        "plt.legend()"
      ],
      "metadata": {
        "colab": {
          "base_uri": "https://localhost:8080/",
          "height": 312
        },
        "id": "wPBi2EArRq7r",
        "outputId": "8ebfa8c7-e8b7-4c44-9447-d3487f8a5f90"
      },
      "execution_count": null,
      "outputs": [
        {
          "output_type": "execute_result",
          "data": {
            "text/plain": [
              "<matplotlib.legend.Legend at 0x7f3e78c3e400>"
            ]
          },
          "metadata": {},
          "execution_count": 55
        },
        {
          "output_type": "display_data",
          "data": {
            "text/plain": [
              "<Figure size 432x288 with 1 Axes>"
            ],
            "image/png": "[encoded data removed]"
          },
          "metadata": {
            "needs_background": "light"
          }
        }
      ]
    },
    {
      "cell_type": "code",
      "source": [
        "fractal_dim = np.polyfit(np.log(measure1), np.log(counted1), 1)[0]\n",
        "print('fractal dimension is {:.3f}'.format(fractal_dim))"
      ],
      "metadata": {
        "colab": {
          "base_uri": "https://localhost:8080/"
        },
        "id": "UnBpity2R89h",
        "outputId": "ea3928ce-e54b-4988-8cde-96cbcd8621eb"
      },
      "execution_count": null,
      "outputs": [
        {
          "output_type": "stream",
          "name": "stdout",
          "text": [
            "fractal dimension is 1.376\n"
          ]
        }
      ]
    },
    {
      "cell_type": "markdown",
      "source": [
        "## 2-D random walk"
      ],
      "metadata": {
        "id": "wvCwJ428St7g"
      }
    },
    {
      "cell_type": "markdown",
      "source": [
        "### function"
      ],
      "metadata": {
        "id": "qDY5JyyQUr06"
      }
    },
    {
      "cell_type": "code",
      "source": [
        "def rw_2d(n):\n",
        "  x = np.zeros(n)\n",
        "  y = np.zeros(n)\n",
        "  directions = [\"u\", \"d\", \"l\", \"r\"]\n",
        "  for i in range(1, n):\n",
        "    step = random.choice(directions)\n",
        "    if step == \"r\":\n",
        "      x[i] = x[i - 1] + 1\n",
        "      y[i] = y[i - 1]\n",
        "    elif step == \"l\":\n",
        "      x[i] = x[i - 1] - 1\n",
        "      y[i] = y[i - 1]\n",
        "    elif step == \"u\":\n",
        "      x[i] = x[i - 1]\n",
        "      y[i] = y[i - 1] + 1\n",
        "    elif step == \"d\":\n",
        "      x[i] = x[i - 1]\n",
        "      y[i] = y[i - 1] - 1\n",
        "\n",
        "  return x, y"
      ],
      "metadata": {
        "id": "gVG-14_zSy8j"
      },
      "execution_count": null,
      "outputs": []
    },
    {
      "cell_type": "code",
      "source": [
        "x, y = rw_2d(100000)\n",
        "plt.plot(x, y)\n",
        "plt.title('2-D random walk')\n",
        "plt.grid()\n",
        "plt.xlabel('x')\n",
        "plt.ylabel('y')"
      ],
      "metadata": {
        "colab": {
          "base_uri": "https://localhost:8080/",
          "height": 312
        },
        "id": "IWtEndOuUYoD",
        "outputId": "f6007cf7-25e1-4f94-d4d3-a556ab2d4e05"
      },
      "execution_count": null,
      "outputs": [
        {
          "output_type": "execute_result",
          "data": {
            "text/plain": [
              "Text(0, 0.5, 'y')"
            ]
          },
          "metadata": {},
          "execution_count": 59
        },
        {
          "output_type": "display_data",
          "data": {
            "text/plain": [
              "<Figure size 432x288 with 1 Axes>"
            ],
            "image/png": "[encoded data removed]"
          },
          "metadata": {
            "needs_background": "light"
          }
        }
      ]
    },
    {
      "cell_type": "code",
      "source": [
        "rw2 = Image.open('2d_rw.png')\n",
        "rw2_arr = np.array(rw2)[:,:,2]\n",
        "np.unique(rw2_arr)"
      ],
      "metadata": {
        "colab": {
          "base_uri": "https://localhost:8080/"
        },
        "id": "-vCI3YBBU_D5",
        "outputId": "22bc3976-45f5-4d9d-a1bc-89763203d315"
      },
      "execution_count": null,
      "outputs": [
        {
          "output_type": "execute_result",
          "data": {
            "text/plain": [
              "array([180, 181, 182, 183, 184, 185, 186, 187, 188, 189, 190, 191, 192,\n",
              "       193, 194, 195, 196, 197, 198, 199, 200, 201, 202, 203, 204, 205,\n",
              "       206, 207, 208, 209, 210, 211, 212, 213, 214, 215, 216, 217, 218,\n",
              "       219, 220, 221, 222, 223, 224, 225, 226, 227, 228, 229, 230, 231,\n",
              "       232, 233, 234, 235, 236, 237, 238, 239, 240, 241, 242, 243, 244,\n",
              "       245, 246, 247, 248, 249, 250, 251, 252, 253, 254, 255], dtype=uint8)"
            ]
          },
          "metadata": {},
          "execution_count": 67
        }
      ]
    },
    {
      "cell_type": "markdown",
      "source": [
        "### making a binary data"
      ],
      "metadata": {
        "id": "kenuWqpRUzKb"
      }
    },
    {
      "cell_type": "code",
      "source": [
        "plt.plot(x, y)\n",
        "plt.axis('off')\n",
        "plt.savefig('2d_rw.png', bbox_inches = 'tight')"
      ],
      "metadata": {
        "colab": {
          "base_uri": "https://localhost:8080/",
          "height": 248
        },
        "id": "59_FWw62U19K",
        "outputId": "806ff495-fdfb-4468-aa62-0f2475d49c7a"
      },
      "execution_count": null,
      "outputs": [
        {
          "output_type": "display_data",
          "data": {
            "text/plain": [
              "<Figure size 432x288 with 1 Axes>"
            ],
            "image/png": "[encoded data removed]"
          },
          "metadata": {
            "needs_background": "light"
          }
        }
      ]
    },
    {
      "cell_type": "code",
      "source": [
        "rw2_arr[rw2_arr != 255] = 1\n",
        "rw2_arr[rw2_arr == 255] = 0"
      ],
      "metadata": {
        "id": "WBiIAw8FVJ_0"
      },
      "execution_count": null,
      "outputs": []
    },
    {
      "cell_type": "code",
      "source": [
        "plt.matshow(rw2_arr,cmap='jet')\n",
        "plt.colorbar()"
      ],
      "metadata": {
        "colab": {
          "base_uri": "https://localhost:8080/",
          "height": 281
        },
        "id": "6JnL7d71VXi2",
        "outputId": "a43874b1-6c6f-4948-e518-a18b0a576a54"
      },
      "execution_count": null,
      "outputs": [
        {
          "output_type": "execute_result",
          "data": {
            "text/plain": [
              "<matplotlib.colorbar.Colorbar at 0x7f3e78092ee0>"
            ]
          },
          "metadata": {},
          "execution_count": 70
        },
        {
          "output_type": "display_data",
          "data": {
            "text/plain": [
              "<Figure size 435.117x288 with 2 Axes>"
            ],
            "image/png": "[encoded data removed]"
          },
          "metadata": {
            "needs_background": "light"
          }
        }
      ]
    },
    {
      "cell_type": "markdown",
      "source": [
        "### box counting for 2-D RW"
      ],
      "metadata": {
        "id": "aWNAhHigVmL1"
      }
    },
    {
      "cell_type": "code",
      "source": [
        "rw2_bc = ps.metrics.boxcount(rw2_arr)\n",
        "print(rw2_bc)"
      ],
      "metadata": {
        "colab": {
          "base_uri": "https://localhost:8080/"
        },
        "id": "K7yiYJrZV6Sj",
        "outputId": "21e87d86-75c2-467f-de14-90f1158a9631"
      },
      "execution_count": null,
      "outputs": [
        {
          "output_type": "stream",
          "name": "stdout",
          "text": [
            "――――――――――――――――――――――――――――――――――――――――――――――――――――――――――――――――――――――――――――――\n",
            "Item                      Description\n",
            "――――――――――――――――――――――――――――――――――――――――――――――――――――――――――――――――――――――――――――――\n",
            "size                      Array of size (10,)\n",
            "count                     [236, 149, 84, 55, 32, 18, 12, 6, 5, 2]\n",
            "slope                     Array of size (10,)\n",
            "――――――――――――――――――――――――――――――――――――――――――――――――――――――――――――――――――――――――――――――\n"
          ]
        }
      ]
    },
    {
      "cell_type": "code",
      "source": [
        "measure2 = rw2_bc.size\n",
        "measure2"
      ],
      "metadata": {
        "colab": {
          "base_uri": "https://localhost:8080/"
        },
        "id": "fDo03igCWISQ",
        "outputId": "3556e857-f6e9-41e9-ca82-4aab8c428331"
      },
      "execution_count": null,
      "outputs": [
        {
          "output_type": "execute_result",
          "data": {
            "text/plain": [
              "array([ 10,  14,  20,  28,  40,  57,  81, 114, 162, 231])"
            ]
          },
          "metadata": {},
          "execution_count": 72
        }
      ]
    },
    {
      "cell_type": "code",
      "source": [
        "counted2 = np.flip(rw2_bc.count)\n",
        "counted2"
      ],
      "metadata": {
        "colab": {
          "base_uri": "https://localhost:8080/"
        },
        "id": "KiaCBB2TWN47",
        "outputId": "d8da03c3-d466-47cc-e64e-9491f34d5c07"
      },
      "execution_count": null,
      "outputs": [
        {
          "output_type": "execute_result",
          "data": {
            "text/plain": [
              "array([  2,   5,   6,  12,  18,  32,  55,  84, 149, 236])"
            ]
          },
          "metadata": {},
          "execution_count": 73
        }
      ]
    },
    {
      "cell_type": "code",
      "source": [
        "model_rw2 = np.poly1d(np.polyfit(np.log(measure2), np.log(counted2), 1))\n",
        "plt.scatter(np.log(measure2), np.log(counted2), label = 'Data points')\n",
        "plt.plot(np.log(measure2), model_rw2(np.log(measure2)), '-r', label = 'linear fit')\n",
        "plt.xlabel('box lenght')\n",
        "plt.ylabel('filled boxes')\n",
        "plt.title('box counting for 2-D random walk')\n",
        "plt.legend()"
      ],
      "metadata": {
        "colab": {
          "base_uri": "https://localhost:8080/",
          "height": 312
        },
        "id": "yDrX88PdWTyz",
        "outputId": "62cb6546-59fd-469a-bbff-080307548923"
      },
      "execution_count": null,
      "outputs": [
        {
          "output_type": "execute_result",
          "data": {
            "text/plain": [
              "<matplotlib.legend.Legend at 0x7f3e7818e940>"
            ]
          },
          "metadata": {},
          "execution_count": 74
        },
        {
          "output_type": "display_data",
          "data": {
            "text/plain": [
              "<Figure size 432x288 with 1 Axes>"
            ],
            "image/png": "[encoded data removed]"
          },
          "metadata": {
            "needs_background": "light"
          }
        }
      ]
    },
    {
      "cell_type": "code",
      "source": [
        "fractal_dim = np.polyfit(np.log(measure2), np.log(counted2), 1)[0]\n",
        "print('fractal dimension is {:.3f}'.format(fractal_dim))"
      ],
      "metadata": {
        "colab": {
          "base_uri": "https://localhost:8080/"
        },
        "id": "6vhEBG1KWhjN",
        "outputId": "47153ee4-6e75-4a58-89a1-88aa4fdd9565"
      },
      "execution_count": null,
      "outputs": [
        {
          "output_type": "stream",
          "name": "stdout",
          "text": [
            "fractal dimension is 1.475\n"
          ]
        }
      ]
    }
  ],
  "metadata": {
    "accelerator": "GPU",
    "colab": {
      "provenance": [],
      "collapsed_sections": [
        "dNAHDzTtuL9U",
        "ka2rG2UGFpep"
      ]
    },
    "kernelspec": {
      "display_name": "Python 3",
      "name": "python3"
    },
    "language_info": {
      "codemirror_mode": {
        "name": "ipython",
        "version": 3
      },
      "file_extension": ".py",
      "mimetype": "text/x-python",
      "name": "python",
      "nbconvert_exporter": "python",
      "pygments_lexer": "ipython3",
      "version": "3.7.0"
    }
  },
  "nbformat": 4,
  "nbformat_minor": 0
}