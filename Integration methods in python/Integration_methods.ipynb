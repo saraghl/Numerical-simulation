{
  "nbformat": 4,
  "nbformat_minor": 0,
  "metadata": {
    "colab": {
      "provenance": [],
      "collapsed_sections": [
        "LFDGF0Pa2z7i",
        "6M8kUz2e7D0r",
        "WSpyNkYwpIEt"
      ]
    },
    "kernelspec": {
      "name": "python3",
      "display_name": "Python 3"
    },
    "language_info": {
      "name": "python"
    }
  },
  "cells": [
    {
      "cell_type": "code",
      "source": [
        "import numpy as np\n",
        "import random"
      ],
      "metadata": {
        "id": "pCXRVTwnpuMu"
      },
      "execution_count": null,
      "outputs": []
    },
    {
      "cell_type": "markdown",
      "source": [
        "# question 1"
      ],
      "metadata": {
        "id": "LFDGF0Pa2z7i"
      }
    },
    {
      "cell_type": "markdown",
      "source": [
        "## Trapezoid rule"
      ],
      "metadata": {
        "id": "NbSihmAF6eSo"
      }
    },
    {
      "cell_type": "code",
      "source": [
        "c = 1\n",
        "k = 1\n",
        "Q = 1\n",
        "\n",
        "def phi(x):\n",
        "  potential = np.exp(-(x**2) / c**2)/(x**2 + z**2)**0.5*(k*Q/c)\n",
        "  return potential\n",
        "\n",
        "def T(n, a, b, g):\n",
        "    h = (b-a)/(n-1)\n",
        "    val = 0.5 * (g(a) + g(b))\n",
        "    for i in range(1,n,1):\n",
        "      val +=  g(a + i*h)\n",
        "      result = val * h\n",
        "    return result"
      ],
      "metadata": {
        "id": "yAT6xNU723GC"
      },
      "execution_count": null,
      "outputs": []
    },
    {
      "cell_type": "code",
      "source": [
        "x = float(input(\"please assign a value to x : \"))\n",
        "z = float(input(\"please assign a value to z : \"))\n",
        "ans = T(1000,-2,2,phi)\n",
        "print(ans)"
      ],
      "metadata": {
        "colab": {
          "base_uri": "https://localhost:8080/"
        },
        "id": "Uk8yMIX_7WYO",
        "outputId": "7ae17909-6b21-4d95-8768-6b80325de836"
      },
      "execution_count": null,
      "outputs": [
        {
          "output_type": "stream",
          "name": "stdout",
          "text": [
            "please assign a value to x : 10\n",
            "please assign a value to z : 3\n",
            "0.5738913147242983\n"
          ]
        }
      ]
    },
    {
      "cell_type": "markdown",
      "source": [
        "## Simpson’s rule"
      ],
      "metadata": {
        "id": "7Kg_lrKlCMOZ"
      }
    },
    {
      "cell_type": "code",
      "source": [
        "c = 1\n",
        "k = 1\n",
        "Q = 1\n",
        "\n",
        "def phi(x):\n",
        "  potential = np.exp(-(x**2) / c**2)/(x**2 + z**2)**0.5*(k*Q/c)\n",
        "  return potential\n",
        "\n",
        "def simpson(n, a, b, g):\n",
        "  h = (b - a) / n\n",
        "  val1 = 0\n",
        "  val2 = 0\n",
        "  for i in range(1, n // 2):\n",
        "    val1 += 2 * g(a + 2 * i * h)\n",
        "  for i in range(1, n // 2 + 1):\n",
        "    val2 += 4 * g(a + (2 * i - 1) * h)\n",
        "  return h * (g(a) + val2 + val1 + g(b)) / 3.0"
      ],
      "metadata": {
        "id": "j11kcuEgCRI0"
      },
      "execution_count": null,
      "outputs": []
    },
    {
      "cell_type": "code",
      "source": [
        "x = float(input(\"please assign a value to x : \"))\n",
        "z = float(input(\"please assign a value to z : \"))\n",
        "ans = T(1000,-2,2,phi)\n",
        "print(ans)"
      ],
      "metadata": {
        "colab": {
          "base_uri": "https://localhost:8080/"
        },
        "id": "AsL2-aszEnY-",
        "outputId": "51b4c7bf-4505-4b2d-848d-6586ff70be91"
      },
      "execution_count": null,
      "outputs": [
        {
          "output_type": "stream",
          "name": "stdout",
          "text": [
            "please assign a value to x : 10\n",
            "please assign a value to z : 3\n",
            "0.5738913147242983\n"
          ]
        }
      ]
    },
    {
      "cell_type": "markdown",
      "source": [
        "#question 2"
      ],
      "metadata": {
        "id": "6M8kUz2e7D0r"
      }
    },
    {
      "cell_type": "markdown",
      "source": [
        "## part a"
      ],
      "metadata": {
        "id": "r9YytBKPn2o0"
      }
    },
    {
      "cell_type": "code",
      "source": [
        "def importance1(N,a,b):\n",
        "  def f(x):\n",
        "    return 1\n",
        "  def p(x):\n",
        "    return np.exp((-x**2) / 2)\n",
        "  sample = np.zeros(N)\n",
        "  for i in range(len(sample)):\n",
        "    sample[i] = random.uniform(a,b)\n",
        "  value = 0\n",
        "  for i in range(N):\n",
        "    value = value + f(sample[i])*p(sample[i])\n",
        "  integration = value / ((b - a) * N)\n",
        "  return integration"
      ],
      "metadata": {
        "id": "9UIJkSIJmUDe"
      },
      "execution_count": null,
      "outputs": []
    },
    {
      "cell_type": "code",
      "source": [
        "for i in [10,100,1000]:\n",
        "  ans = importance1(i,0,1)\n",
        "  print(' the answer of importance sampling method with n =',str(i),'is',ans)"
      ],
      "metadata": {
        "colab": {
          "base_uri": "https://localhost:8080/"
        },
        "id": "uKnWKm60nKbk",
        "outputId": "a7cb423b-c819-41cf-d870-a89c099335e0"
      },
      "execution_count": null,
      "outputs": [
        {
          "output_type": "stream",
          "name": "stdout",
          "text": [
            " the answer of importance sampling method with n = 10 is 0.8434403234299674\n",
            " the answer of importance sampling method with n = 100 is 0.8388774865588381\n",
            " the answer of importance sampling method with n = 1000 is 0.8509693463919457\n"
          ]
        }
      ]
    },
    {
      "cell_type": "markdown",
      "source": [
        "## part b"
      ],
      "metadata": {
        "id": "DYaR1Ns1odLZ"
      }
    },
    {
      "cell_type": "code",
      "source": [
        "def importance2(N,a,b):\n",
        "  def f(x):\n",
        "    return x ** (-1/2)\n",
        "  def p(x):\n",
        "    return np.exp(-10 * x)\n",
        "  sample = np.zeros(N)\n",
        "  for i in range(len(sample)):\n",
        "    sample[i] = random.uniform(a,b)\n",
        "  value = 0\n",
        "  for i in range(N):\n",
        "    value = value + f(sample[i])*p(sample[i])\n",
        "  integration = value / ((b - a) * N)\n",
        "  return integration"
      ],
      "metadata": {
        "id": "9qZv7nS0ocO7"
      },
      "execution_count": null,
      "outputs": []
    },
    {
      "cell_type": "code",
      "source": [
        "for i in [10,100,1000]:\n",
        "  ans2 = importance2(i,0,1)\n",
        "  print(' the answer of importance sampling method with n =',str(i),'is',ans2)"
      ],
      "metadata": {
        "colab": {
          "base_uri": "https://localhost:8080/"
        },
        "id": "Moj1wtquoxPj",
        "outputId": "f0f33902-5b91-4d14-9737-937398b2250b"
      },
      "execution_count": null,
      "outputs": [
        {
          "output_type": "stream",
          "name": "stdout",
          "text": [
            " the answer of importance sampling method with n = 10 is 0.7394956126870309\n",
            " the answer of importance sampling method with n = 100 is 0.7499665230024335\n",
            " the answer of importance sampling method with n = 1000 is 0.5685523628774519\n"
          ]
        }
      ]
    },
    {
      "cell_type": "markdown",
      "source": [
        "# question 3"
      ],
      "metadata": {
        "id": "WSpyNkYwpIEt"
      }
    },
    {
      "cell_type": "markdown",
      "source": [
        "## a) montecarlo method"
      ],
      "metadata": {
        "id": "ek1aaFnKrOVM"
      }
    },
    {
      "cell_type": "code",
      "execution_count": null,
      "metadata": {
        "id": "Q3LneZyspF6j"
      },
      "outputs": [],
      "source": [
        "def montecarlo(N,a,b):\n",
        "  def f(x):\n",
        "     f = (1-x**2) ** (1/2) #the function of the question\n",
        "     return f\n",
        "  sample = np.zeros(N)\n",
        "  for i in range(len(sample)):\n",
        "    sample[i] = random.uniform(a,b)\n",
        "  value = 0\n",
        "  for i in range(N):\n",
        "    value = value + f(sample[i])\n",
        "\n",
        "  integration = (b-a)/float(N)*value\n",
        "  return integration"
      ]
    },
    {
      "cell_type": "code",
      "source": [
        "for i in [100,1000,10000]:\n",
        "  monte = montecarlo(i,-1,1)\n",
        "  print(' the answer of Monte Carlo integration with n =',str(i),'is',monte)"
      ],
      "metadata": {
        "colab": {
          "base_uri": "https://localhost:8080/"
        },
        "id": "PkY1GbGbqpqC",
        "outputId": "ce5f53b8-1760-42d0-dbde-3353ed5753bb"
      },
      "execution_count": null,
      "outputs": [
        {
          "output_type": "stream",
          "name": "stdout",
          "text": [
            " the answer of Monte Carlo integration with n = 100 is 1.5927257638278267\n",
            " the answer of Monte Carlo integration with n = 1000 is 1.5665921694944256\n",
            " the answer of Monte Carlo integration with n = 10000 is 1.5746503581270672\n"
          ]
        }
      ]
    },
    {
      "cell_type": "markdown",
      "source": [
        "## b) rectangular method"
      ],
      "metadata": {
        "id": "5YgWm-3mrVha"
      }
    },
    {
      "cell_type": "code",
      "source": [
        "def rectangular(N,a,b):\n",
        "  def f(x):\n",
        "    f = (1-x**2) ** (1/2) #the function of the question\n",
        "    return f\n",
        "  value = 0 #initial value\n",
        "  integration = 0 #initial value\n",
        "  for n in range (1,N+1):\n",
        "    x_mid = a+(2*n-1)*(b-a)/(2*N)\n",
        "    value = value + f(x_mid) #sum up all the values\n",
        "\n",
        "  integration = ((b-a)/N)*value  #final formula\n",
        "\n",
        "  return integration"
      ],
      "metadata": {
        "id": "hnw7V8ZRp0H5"
      },
      "execution_count": null,
      "outputs": []
    },
    {
      "cell_type": "code",
      "source": [
        "for i in [100,1000,10000]:\n",
        "  m = rectangular(i,-1,1)\n",
        "  print(' the answer of rectangular integration with n =',str(i),'is',m)"
      ],
      "metadata": {
        "colab": {
          "base_uri": "https://localhost:8080/"
        },
        "id": "LUEK5oQqqGUG",
        "outputId": "62fac637-0bbb-498b-8d04-f3ba9e642e59"
      },
      "execution_count": null,
      "outputs": [
        {
          "output_type": "stream",
          "name": "stdout",
          "text": [
            " the answer of rectangular integration with n = 100 is 1.5712827762297956\n",
            " the answer of rectangular integration with n = 1000 is 1.5708117284099568\n",
            " the answer of rectangular integration with n = 10000 is 1.5707968138960287\n"
          ]
        }
      ]
    },
    {
      "cell_type": "markdown",
      "source": [
        "according to answers of part (a) and part (b), the convergence of the midpoint method (rectangular method) is better than the monte Carlo method because its results are closer to eachother and they're not much different. however, in the monte Carlo method, this is not satisfied because numbers are just random samples."
      ],
      "metadata": {
        "id": "RbNSfiy8q2uc"
      }
    }
  ]
}